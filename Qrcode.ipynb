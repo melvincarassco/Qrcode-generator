{
 "cells": [
  {
   "cell_type": "markdown",
   "metadata": {},
   "source": [
    "# How to generate a QR code ?\n",
    "Here, are some steps to generate your own QR code with a message encoded in it.\n"
   ]
  },
  {
   "cell_type": "markdown",
   "metadata": {},
   "source": [
    "We need to import pyqrcode,pyzbar,PIL. Then create an object qr using create and pass a message as a string. Also, give a name to the QR code. "
   ]
  },
  {
   "cell_type": "code",
   "execution_count": 16,
   "metadata": {},
   "outputs": [],
   "source": [
    "import pyqrcode\n",
    "from pyzbar.pyzbar import decode\n",
    "from PIL import Image\n",
    "qr = pyqrcode.create(\"hello\")\n",
    "qr.png(\"Mycode.png\",scale = 8)"
   ]
  },
  {
   "cell_type": "markdown",
   "metadata": {},
   "source": [
    "Wow , the QR code is generated. To check if the code has the message, use the QR code scanner available on the web using a smartphone , the device camera scans and displays the message."
   ]
  },
  {
   "cell_type": "markdown",
   "metadata": {},
   "source": [
    "We shall create a function called qrcode(string,qrcodename) with two arguments, string is the message you want to encode and qrcodename is the filename of the QR code."
   ]
  },
  {
   "cell_type": "code",
   "execution_count": 17,
   "metadata": {},
   "outputs": [],
   "source": [
    "def qrcode(string, qrcodename):\n",
    "    qr = pyqrcode.create(string)\n",
    "    qr.png(qrcodename,scale = 8)"
   ]
  },
  {
   "cell_type": "markdown",
   "metadata": {},
   "source": [
    "Now , use qrcode and pass the arguments in double quotes(\"). \n",
    "\n",
    "Note: While giving your filename don't forget to end it with .png, as it will throw an error. "
   ]
  },
  {
   "cell_type": "code",
   "execution_count": 20,
   "metadata": {},
   "outputs": [],
   "source": [
    "qrcode(\"Good morning!\",\"morning.png\")"
   ]
  },
  {
   "cell_type": "code",
   "execution_count": 22,
   "metadata": {},
   "outputs": [],
   "source": [
    "qrcode(\"Hello, Margaret!\",\"margaret.png\")"
   ]
  }
 ],
 "metadata": {
  "kernelspec": {
   "display_name": "Python 3",
   "language": "python",
   "name": "python3"
  },
  "language_info": {
   "codemirror_mode": {
    "name": "ipython",
    "version": 3
   },
   "file_extension": ".py",
   "mimetype": "text/x-python",
   "name": "python",
   "nbconvert_exporter": "python",
   "pygments_lexer": "ipython3",
   "version": "3.7.0"
  }
 },
 "nbformat": 4,
 "nbformat_minor": 2
}
